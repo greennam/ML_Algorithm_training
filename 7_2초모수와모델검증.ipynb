{
  "nbformat": 4,
  "nbformat_minor": 0,
  "metadata": {
    "colab": {
      "name": "7-2초모수와모델검증.ipynb",
      "provenance": [],
      "collapsed_sections": [],
      "authorship_tag": "ABX9TyNJGmN3wpuT9RhvfmwYUB8x",
      "include_colab_link": true
    },
    "kernelspec": {
      "name": "python3",
      "display_name": "Python 3"
    }
  },
  "cells": [
    {
      "cell_type": "markdown",
      "metadata": {
        "id": "view-in-github",
        "colab_type": "text"
      },
      "source": [
        "<a href=\"https://colab.research.google.com/github/greennam/MyGit/blob/master/7_2%EC%B4%88%EB%AA%A8%EC%88%98%EC%99%80%EB%AA%A8%EB%8D%B8%EA%B2%80%EC%A6%9D.ipynb\" target=\"_parent\"><img src=\"https://colab.research.google.com/assets/colab-badge.svg\" alt=\"Open In Colab\"/></a>"
      ]
    },
    {
      "cell_type": "code",
      "metadata": {
        "id": "TSpRe3e2oSYI",
        "colab_type": "code",
        "colab": {}
      },
      "source": [
        "from sklearn.datasets import load_iris"
      ],
      "execution_count": 1,
      "outputs": []
    },
    {
      "cell_type": "code",
      "metadata": {
        "id": "hHYQ4PoKpn-p",
        "colab_type": "code",
        "colab": {}
      },
      "source": [
        "iris = load_iris()\n",
        "X = iris.data\n",
        "y = iris.target"
      ],
      "execution_count": 2,
      "outputs": []
    },
    {
      "cell_type": "code",
      "metadata": {
        "id": "DH-sMa1ZpxYF",
        "colab_type": "code",
        "colab": {}
      },
      "source": [
        "from sklearn.neighbors import KNeighborsClassifier"
      ],
      "execution_count": 3,
      "outputs": []
    },
    {
      "cell_type": "code",
      "metadata": {
        "id": "OMnkK-h119rX",
        "colab_type": "code",
        "colab": {
          "base_uri": "https://localhost:8080/",
          "height": 36
        },
        "outputId": "863432fb-898a-49b2-9d1d-7619dd71d39b"
      },
      "source": [
        "model = KNeighborsClassifier(n_neighbors=1)\n",
        "model.fit(X,y)\n",
        "from sklearn.metrics import accuracy_score\n",
        "y_predicted = model.predict(X)\n",
        "accuracy_score(y, y_predicted)\n",
        "# Train data를 검증 데이터로 사용하는 모순 있음. 정확도 100% 나옴. (오류)"
      ],
      "execution_count": 4,
      "outputs": [
        {
          "output_type": "execute_result",
          "data": {
            "text/plain": [
              "1.0"
            ]
          },
          "metadata": {
            "tags": []
          },
          "execution_count": 4
        }
      ]
    },
    {
      "cell_type": "code",
      "metadata": {
        "id": "orckfx9T3S1r",
        "colab_type": "code",
        "colab": {}
      },
      "source": [
        "# Training, Test dat로 분리 (Data 양이 충분히 많을대)\n",
        "from sklearn.model_selection import train_test_split\n",
        "X1, X2, y1, y2 = train_test_split(X, y, random_state = 0, train_size = 0.5 )"
      ],
      "execution_count": 5,
      "outputs": []
    },
    {
      "cell_type": "code",
      "metadata": {
        "id": "s9Hxc8b-f06W",
        "colab_type": "code",
        "colab": {
          "base_uri": "https://localhost:8080/",
          "height": 36
        },
        "outputId": "cfbad9b9-a96d-4722-eacd-c7a9ae1fb601"
      },
      "source": [
        "model.fit(X1, y1)\n",
        "y2_predicted = model.predict(X2)\n",
        "accuracy_score(y2, y2_predicted)"
      ],
      "execution_count": 6,
      "outputs": [
        {
          "output_type": "execute_result",
          "data": {
            "text/plain": [
              "0.9066666666666666"
            ]
          },
          "metadata": {
            "tags": []
          },
          "execution_count": 6
        }
      ]
    },
    {
      "cell_type": "code",
      "metadata": {
        "id": "AcHb79Z6gir2",
        "colab_type": "code",
        "colab": {
          "base_uri": "https://localhost:8080/",
          "height": 73
        },
        "outputId": "ef094e33-22e0-4286-e0f9-1b09eef25d1a"
      },
      "source": [
        "# 2 겹 교차 검증 (Data 적을때)\n",
        "y2_model_predict = model.fit(X1, y1).predict(X2)\n",
        "y1_model_predict = model.fit(X2, y2).predict(X1)\n",
        "score1 = accuracy_score(y1, y1_model_predict)\n",
        "print(score1)\n",
        "score2 = accuracy_score(y2, y2_model_predict)\n",
        "print(score2)\n",
        "score = (score1 + score2)/2\n",
        "print(score)"
      ],
      "execution_count": 13,
      "outputs": [
        {
          "output_type": "stream",
          "text": [
            "0.96\n",
            "0.9066666666666666\n",
            "0.9333333333333333\n"
          ],
          "name": "stdout"
        }
      ]
    },
    {
      "cell_type": "code",
      "metadata": {
        "id": "kyTIgsbqO7Dd",
        "colab_type": "code",
        "colab": {
          "base_uri": "https://localhost:8080/",
          "height": 36
        },
        "outputId": "681ee7a5-5753-4b1b-cbe1-04f09383997c"
      },
      "source": [
        "from sklearn.model_selection import cross_val_score\n",
        "cross_val_score(model, X, y, cv=5).mean()"
      ],
      "execution_count": 11,
      "outputs": [
        {
          "output_type": "execute_result",
          "data": {
            "text/plain": [
              "0.96"
            ]
          },
          "metadata": {
            "tags": []
          },
          "execution_count": 11
        }
      ]
    },
    {
      "cell_type": "code",
      "metadata": {
        "id": "rbT2NXcJQz6-",
        "colab_type": "code",
        "colab": {
          "base_uri": "https://localhost:8080/",
          "height": 36
        },
        "outputId": "354a2395-c636-4593-f519-a561f9f2dde5"
      },
      "source": [
        "# Data 수가 극도로 적은 경우, 1개 데이터로 검증\n",
        "from sklearn.model_selection import LeaveOneOut\n",
        "scores = cross_val_score(model, X, y, cv = LeaveOneOut())\n",
        "scores.mean()\n",
        "# Data 충분시 => 분할 검증 / Data 불충분, 적은 경우 => 교차 검증 실시\n",
        "# 참고 자료 사이트 http://scikit-learn.org/stable/user_guide.html\n",
        "\n",
        "# 좋은 평가방법이란?\n",
        "# 머신러닝에 “공짜 점심은 없다”라는 말이 있습니다. 모든 상황에 최적화된 모델은 \n",
        "# 없다는 이야기지요. 어떤 데이터에서는 좋았던 알고리즘이 다른 데이터로 가면 \n",
        "# 성능이 떨어지는 일은 부지기수입니다. 평가방법 역시 그러합니다. \n",
        "# AUC나 F1-score 처럼 범용적으로 사용되는 수치는 있으나 수치가 높았던 모델이 \n",
        "# 실제 데이터에서 어떤 작용을 할 지는 알 수 없습니다. \n",
        "# 그렇기 때문에 많은 수치를 측정해보고 가장 적정한 평가방법이나 \n",
        "# 평균적으로 높게 평가되는 모델을 찾아서 하는 것이 좋은 방법이 되겠습니다."
      ],
      "execution_count": 14,
      "outputs": [
        {
          "output_type": "execute_result",
          "data": {
            "text/plain": [
              "0.96"
            ]
          },
          "metadata": {
            "tags": []
          },
          "execution_count": 14
        }
      ]
    },
    {
      "cell_type": "code",
      "metadata": {
        "id": "qJUu_2RqRbqe",
        "colab_type": "code",
        "colab": {}
      },
      "source": [
        ""
      ],
      "execution_count": null,
      "outputs": []
    }
  ]
}