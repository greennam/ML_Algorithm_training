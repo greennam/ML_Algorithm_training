{
  "nbformat": 4,
  "nbformat_minor": 0,
  "metadata": {
    "colab": {
      "name": "7-2초모수와모델검증.ipynb",
      "provenance": [],
      "collapsed_sections": [],
      "authorship_tag": "ABX9TyPV+fpkqoUb6mf3gDb+eYnO",
      "include_colab_link": true
    },
    "kernelspec": {
      "name": "python3",
      "display_name": "Python 3"
    }
  },
  "cells": [
    {
      "cell_type": "markdown",
      "metadata": {
        "id": "view-in-github",
        "colab_type": "text"
      },
      "source": [
        "<a href=\"https://colab.research.google.com/github/greennam/MyGit/blob/master/7_2%EC%B4%88%EB%AA%A8%EC%88%98%EC%99%80%EB%AA%A8%EB%8D%B8%EA%B2%80%EC%A6%9D.ipynb\" target=\"_parent\"><img src=\"https://colab.research.google.com/assets/colab-badge.svg\" alt=\"Open In Colab\"/></a>"
      ]
    },
    {
      "cell_type": "code",
      "metadata": {
        "id": "TSpRe3e2oSYI",
        "colab_type": "code",
        "colab": {}
      },
      "source": [
        "from sklearn.datasets import load_iris"
      ],
      "execution_count": null,
      "outputs": []
    },
    {
      "cell_type": "code",
      "metadata": {
        "id": "hHYQ4PoKpn-p",
        "colab_type": "code",
        "colab": {}
      },
      "source": [
        "iris = load_iris()\n",
        "X = iris.data\n",
        "y = iris.target"
      ],
      "execution_count": null,
      "outputs": []
    },
    {
      "cell_type": "code",
      "metadata": {
        "id": "DH-sMa1ZpxYF",
        "colab_type": "code",
        "colab": {}
      },
      "source": [
        "from sklearn.neighbors import KNeighborsClassifier"
      ],
      "execution_count": null,
      "outputs": []
    },
    {
      "cell_type": "code",
      "metadata": {
        "id": "OMnkK-h119rX",
        "colab_type": "code",
        "colab": {
          "base_uri": "https://localhost:8080/",
          "height": 35
        },
        "outputId": "326f9726-b9a3-4439-a766-766f1d97d438"
      },
      "source": [
        "model = KNeighborsClassifier(n_neighbors=1)\n",
        "model.fit(X,y)\n",
        "from sklearn.metrics import accuracy_score\n",
        "y_predicted = model.predict(X)\n",
        "accuracy_score(y, y_predicted)\n",
        "# Train data를 검증 데이터로 사용하는 모순 있음. 정확도 100% 나옴. (오류)"
      ],
      "execution_count": null,
      "outputs": [
        {
          "output_type": "execute_result",
          "data": {
            "text/plain": [
              "1.0"
            ]
          },
          "metadata": {
            "tags": []
          },
          "execution_count": 8
        }
      ]
    },
    {
      "cell_type": "code",
      "metadata": {
        "id": "orckfx9T3S1r",
        "colab_type": "code",
        "colab": {}
      },
      "source": [
        "# Training, Test dat로 분리 (Data 양이 충분히 많을대)\n",
        "from sklearn.model_selection import train_test_split\n",
        "X1, X2, y1, y2 = train_test_split(X, y, random_state = 0, train_size = 0.5 )"
      ],
      "execution_count": null,
      "outputs": []
    },
    {
      "cell_type": "code",
      "metadata": {
        "id": "s9Hxc8b-f06W",
        "colab_type": "code",
        "colab": {
          "base_uri": "https://localhost:8080/",
          "height": 35
        },
        "outputId": "677199b8-61fb-44a8-9dc8-74b2ebd7c1da"
      },
      "source": [
        "model.fit(X1, y1)\n",
        "y2_predicted = model.predict(X2)\n",
        "accuracy_score(y2, y2_predicted)"
      ],
      "execution_count": null,
      "outputs": [
        {
          "output_type": "execute_result",
          "data": {
            "text/plain": [
              "0.9066666666666666"
            ]
          },
          "metadata": {
            "tags": []
          },
          "execution_count": 7
        }
      ]
    },
    {
      "cell_type": "code",
      "metadata": {
        "id": "AcHb79Z6gir2",
        "colab_type": "code",
        "colab": {}
      },
      "source": [
        "# 2 겹 교차 검증 (Data 적을때)\n",
        "y1_model_predict = model.fit(X1, y1).predict(X2)\n",
        "y2_model_predict = model.fit(X2, y2).predict(X1)"
      ],
      "execution_count": null,
      "outputs": []
    }
  ]
}